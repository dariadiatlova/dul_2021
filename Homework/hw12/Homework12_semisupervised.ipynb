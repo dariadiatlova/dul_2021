{
  "nbformat": 4,
  "nbformat_minor": 0,
  "metadata": {
    "colab": {
      "name": "Homework12_semisupervised.ipynb",
      "provenance": [],
      "collapsed_sections": []
    },
    "kernelspec": {
      "name": "python3",
      "display_name": "Python 3"
    },
    "language_info": {
      "name": "python"
    },
    "accelerator": "GPU"
  },
  "cells": [
    {
      "cell_type": "markdown",
      "metadata": {
        "id": "view-in-github"
      },
      "source": [
        "<a href=\"https://colab.research.google.com/github/GrigoryBartosh/dul_2021/blob/main/Homework/hw12/Homework12_semisupervised.ipynb\" target=\"_parent\"><img src=\"https://colab.research.google.com/assets/colab-badge.svg\" alt=\"Open In Colab\"/></a>"
      ]
    },
    {
      "cell_type": "code",
      "source": [
        "!if [ -d dul_2021 ]; then rm -Rf dul_2021; fi\n",
        "!git clone https://github.com/GrigoryBartosh/dul_2021\n",
        "!pip install ./dul_2021"
      ],
      "metadata": {
        "id": "vEPPrGksax7-"
      },
      "execution_count": null,
      "outputs": []
    },
    {
      "cell_type": "code",
      "source": [
        "import torch\n",
        "import torch.nn as nn\n",
        "import torch.nn.functional as F\n",
        "import torch.utils.data as data\n",
        "import torch.optim as opt\n",
        "\n",
        "from torchvision import transforms\n",
        "\n",
        "import numpy as np\n",
        "\n",
        "from tqdm import tqdm\n",
        "from sklearn.metrics import accuracy_score\n",
        "\n",
        "from collections import namedtuple"
      ],
      "metadata": {
        "id": "yHVDX1VhkrTC"
      },
      "execution_count": 2,
      "outputs": []
    },
    {
      "cell_type": "code",
      "source": [
        "from dul_2021.utils.hw12_utils import *"
      ],
      "metadata": {
        "id": "VUu3B_L7azpr"
      },
      "execution_count": 3,
      "outputs": []
    },
    {
      "cell_type": "code",
      "source": [
        "device = \"cuda\" if torch.cuda.is_available() else \"cpu\""
      ],
      "metadata": {
        "id": "5C3SEz4u22Ua"
      },
      "execution_count": 4,
      "outputs": []
    },
    {
      "cell_type": "markdown",
      "source": [
        "# Question 1. VAT\n",
        "\n",
        "Here we will implement [VAT](https://arxiv.org/pdf/1704.03976.pdf).\n",
        "\n",
        "* Train labeled data with standatd cross-entropy loss\n",
        "\n",
        "* Use vat regularization for both unlabeled and labeled data\n",
        "\n",
        "* You can use architecture from practice\n",
        "\n",
        "* Dataset comes as pairs `x, y`. `x` is an image from CIFAR10. `y` is a label from `[0, 10]` if datapoint is labeled and `-1` otherwise.\n",
        "\n",
        "**Hyperparameters**\n",
        "\n",
        "* ξ= 10 \n",
        "* lr = 5e-4\n",
        "* num_epochs = 15\n",
        "\n",
        "\n",
        "\n",
        "**You will provide the following deliverables**\n",
        "\n",
        "\n",
        "1. Over the course of training, record loss ber batch.\n",
        "2. After each epoch calculate accuracy on test data."
      ],
      "metadata": {
        "id": "qo4zHxLOv5rX"
      }
    },
    {
      "cell_type": "code",
      "source": [
        "class SSDataset:\n",
        "    def __init__(self, data, c=4000, train=True):\n",
        "        self.data = data\n",
        "        self.c = c\n",
        "        self.train = train\n",
        "\n",
        "    def __len__(self):\n",
        "        return len(self.data)\n",
        "\n",
        "    def __getitem__(self, i):\n",
        "        x, y = self.data[i]\n",
        "        if not self.train:\n",
        "            return x, y\n",
        "\n",
        "        y = y if i < self.c else -1\n",
        "        return x, y\n",
        "\n",
        "\n",
        "def q12_results(q):\n",
        "    train_data, test_data = get_data('CIFAR10')\n",
        "    train_data, test_data = SSDataset(train_data), SSDataset(test_data, train=False)\n",
        "\n",
        "    losses, accs = q(train_data, test_data)\n",
        "\n",
        "    plot_training(losses, 'Loss')\n",
        "    plot_training(accs, 'Accuracy')"
      ],
      "metadata": {
        "id": "or6_h9MZEZ-l"
      },
      "execution_count": 13,
      "outputs": []
    },
    {
      "cell_type": "code",
      "source": [
        "class Net(nn.Module):\n",
        "    def __init__(self, out_dim=128, hid_dim_full=128, n_classes=11):\n",
        "        super(Net, self).__init__()\n",
        "\n",
        "        self.conv1 = nn.Conv2d(3, 16, 5, padding=2)\n",
        "        self.conv2 = nn.Conv2d(16, 16, 3, padding=1, stride=2)\n",
        "        self.conv3 = nn.Conv2d(16, 32, 5, padding=2)\n",
        "        self.conv4 = nn.Conv2d(32, 32, 3, padding=1, stride=2)\n",
        "        self.conv5 = nn.Conv2d(32, 32, 1)\n",
        "        self.conv6 = nn.Conv2d(32, 4, 1)\n",
        "\n",
        "        self.conv_to_fc = 8 * 8 * 4\n",
        "        self.fc1 = nn.Linear(self.conv_to_fc, hid_dim_full)\n",
        "        self.fc2 = nn.Linear(hid_dim_full, int(hid_dim_full // 2))\n",
        "\n",
        "        self.features = nn.Linear(int(hid_dim_full // 2), out_dim)\n",
        "        self.last = nn.Linear(out_dim, n_classes)\n",
        "\n",
        "\n",
        "    def forward(self, x):\n",
        "\n",
        "        x = F.relu(self.conv1(x))\n",
        "        x = F.relu(self.conv2(x))\n",
        "        x = F.relu(self.conv3(x))\n",
        "        x = F.relu(self.conv4(x))\n",
        "        x = F.relu(self.conv5(x))\n",
        "        x = F.relu(self.conv6(x))\n",
        "        x = x.view(-1, self.conv_to_fc)\n",
        "        x = F.relu(self.fc1(x))\n",
        "        x = F.relu(self.fc2(x))\n",
        "\n",
        "        features = self.features(x)\n",
        "\n",
        "        return self.last(features)"
      ],
      "metadata": {
        "id": "3RhcWG7ileTs"
      },
      "execution_count": 100,
      "outputs": []
    },
    {
      "cell_type": "code",
      "source": [
        "class VAT(nn.Module):\n",
        "    def __init__(self, lr, gamma):\n",
        "        super().__init__()\n",
        "        self.net = Net()\n",
        "        self.net.to(device)\n",
        "        self.crossentropy = nn.CrossEntropyLoss()\n",
        "        self.optimizer = opt.Adam(self.net.parameters(), lr=lr)\n",
        "        self.scheduler = opt.lr_scheduler.ExponentialLR(self.optimizer, gamma=gamma)\n",
        "        self.softmax = nn.Softmax(-1)\n",
        "        self.log_softmax = nn.LogSoftmax(-1)\n",
        "\n",
        "    def l2_normalize(self, d):\n",
        "        d_reshaped = d.view(d.shape[0], -1, * (1 for _ in range(d.dim() - 2)))\n",
        "        d /= torch.norm(d_reshaped, dim=1, keepdim=True) + 1e-8\n",
        "        return d\n",
        "\n",
        "    def vat_loss(self, x, eps):\n",
        "        with torch.no_grad():\n",
        "          pred = self.softmax(self.net(x))\n",
        "        \n",
        "        random_unit_tensor = self.l2_normalize(\n",
        "            torch.rand(x.shape).sub(0.5).to(device))\n",
        "        random_unit_tensor.requires_grad_()\n",
        "\n",
        "        pred_hat = self.log_softmax(self.net(x * eps + random_unit_tensor))\n",
        "        kl_distance = F.kl_div(pred_hat, pred, reduction='batchmean')\n",
        "        kl_distance.backward()\n",
        "\n",
        "        r_adv = self.l2_normalize(random_unit_tensor.grad)\n",
        "        self.net.zero_grad()\n",
        "        pred_hat = self.log_softmax(self.net(x + r_adv))\n",
        "        lds = F.kl_div(pred_hat, pred, reduction='batchmean')\n",
        "        return lds\n",
        "       \n",
        "    def fit(self, train_loader, test_loader, lr, num_epochs, eps):\n",
        "        losses = []\n",
        "        accs = []\n",
        "        \n",
        "        for i in tqdm(range(num_epochs)):\n",
        "            running_loss = 0\n",
        "            n_batches = 0\n",
        "            for (x, label) in train_loader:\n",
        "                n_batches += 1\n",
        "\n",
        "                x_l = x[label >= 0]\n",
        "                y_l = label[label >= 0]\n",
        "\n",
        "                x_ul = x[label < 0]\n",
        "                y_ul = label[label < 0]\n",
        "\n",
        "                # labeled data processing \n",
        "                labeled_class_probs = self.net(x_l.to(device))\n",
        "                crossentropy_loss = self.crossentropy(\n",
        "                    labeled_class_probs, y_l.to(device))\n",
        "                \n",
        "                # all data processing\n",
        "                lds = self.vat_loss(x.to(device), eps)\n",
        "                loss = crossentropy_loss + lds\n",
        "\n",
        "                self.optimizer.zero_grad()\n",
        "                loss.backward()\n",
        "                self.optimizer.step()\n",
        "\n",
        "                running_loss += loss.item()\n",
        "\n",
        "            losses.append(running_loss / n_batches)\n",
        "            preds, true = self.decision_function_loader(test_loader)\n",
        "            accs.append(accuracy_score(true, preds))\n",
        "            self.scheduler.step()    \n",
        "\n",
        "        return losses, accs\n",
        "    \n",
        "    def decision_function_loader(self, dataloader):\n",
        "        y_pred = []\n",
        "        y_true = []\n",
        "        for x, y in dataloader:\n",
        "            probas = torch.argmax(self.net(x.to(device).float()), 1)\n",
        "            y_pred.extend(list(probas.squeeze().detach().cpu().numpy()))\n",
        "            y_true.extend(list(y.squeeze().detach().cpu().numpy()))\n",
        "        return y_pred, y_true"
      ],
      "metadata": {
        "id": "tSJRcQ3qrfPw"
      },
      "execution_count": 7,
      "outputs": []
    },
    {
      "cell_type": "code",
      "source": [
        "def q1(train_data, test_data):\n",
        "    \"\"\"\n",
        "    train_data: An (n_train, 3, 32, 32) torchvision dataset of CIFAR10 images with values from -1 to 1\n",
        "\n",
        "    Returns\n",
        "    - a (# of training iterations, ) numpy array  losses on each iteration\n",
        "    - a (# of training epochs, ) numpy array accuracies on each epoch\n",
        "    \"\"\"\n",
        "    bs = 256\n",
        "    lr = 5e-4\n",
        "    eps = 10\n",
        "    gamma = 0.99\n",
        "    num_epochs = 15\n",
        "\n",
        "    train_loader = torch.utils.data.DataLoader(train_data, bs, shuffle=True)\n",
        "    test_loader = torch.utils.data.DataLoader(test_data, bs, shuffle=True)\n",
        "\n",
        "    vat = VAT(lr, gamma)\n",
        "    losses, accs = vat.fit(train_loader, test_loader, lr, num_epochs, eps)\n",
        "    return losses, accs"
      ],
      "metadata": {
        "id": "v3neKPxpZImJ"
      },
      "execution_count": 8,
      "outputs": []
    },
    {
      "cell_type": "code",
      "source": [
        "q12_results(q1)"
      ],
      "metadata": {
        "colab": {
          "base_uri": "https://localhost:8080/",
          "height": 626
        },
        "id": "saxnnzOCzkMx",
        "outputId": "b2aae2f6-fa7f-4bd7-c341-1bd8a9212a1a"
      },
      "execution_count": null,
      "outputs": [
        {
          "output_type": "stream",
          "name": "stdout",
          "text": [
            "Files already downloaded and verified\n",
            "Files already downloaded and verified\n"
          ]
        },
        {
          "output_type": "stream",
          "name": "stderr",
          "text": [
            "100%|██████████| 15/15 [08:20<00:00, 33.37s/it]\n"
          ]
        },
        {
          "output_type": "display_data",
          "data": {
            "image/png": "[encoded data removed]",
            "text/plain": [
              "<Figure size 432x288 with 1 Axes>"
            ]
          },
          "metadata": {
            "needs_background": "light"
          }
        },
        {
          "output_type": "display_data",
          "data": {
            "image/png": "[encoded data removed]",
            "text/plain": [
              "<Figure size 432x288 with 1 Axes>"
            ]
          },
          "metadata": {
            "needs_background": "light"
          }
        }
      ]
    },
    {
      "cell_type": "code",
      "source": [
        ""
      ],
      "metadata": {
        "id": "pe5h3k7yZH_Q"
      },
      "execution_count": null,
      "outputs": []
    },
    {
      "cell_type": "markdown",
      "source": [
        "# Question 2. FixMatch\n",
        "\n",
        "Here we will implement [FixMatch](https://arxiv.org/abs/2001.07685).\n",
        "\n",
        "* Calculate loss on weakly augmented labeled data with standatd cross-entropy loss\n",
        "\n",
        "* Calculate loss on strongly augmented unlabeled data with standatd cross-entropy loss with pseudo-lables\n",
        "\n",
        "* Use SimCLR transformations as strong and RandomHorizontalFlip as weak\n",
        "\n",
        "* You can use architecture from practice\n",
        "\n",
        "* Dataset comes as pairs `x, y`. `x` is an image from CIFAR10. `y` is a label from `[0, 10]` if datapoint is labeled and `-1` otherwise.\n",
        "\n",
        "**Hyperparameters**\n",
        "\n",
        "* τ = 0.7 \n",
        "* λ_u = 10 (weight of unlabeled loss)\n",
        "* lr = 5e-4\n",
        "* num_epochs ~ 20 or more\n",
        "\n",
        "\n",
        "\n",
        "**You will provide the following deliverables**\n",
        "\n",
        "\n",
        "1. Over the course of training, record loss ber batch.\n",
        "2. After each epoch calculate accuracy on test data."
      ],
      "metadata": {
        "id": "zxgc1UFd_cpi"
      }
    },
    {
      "cell_type": "code",
      "source": [
        "class Model(nn.Module):\n",
        "    def __init__(self):\n",
        "        super(Model, self).__init__()\n",
        "        self.conv1 = nn.Conv2d(3, 32, 3, 1, 1)\n",
        "        self.conv2 = nn.Conv2d(32, 64, 3, 2, 1)\n",
        "        self.conv3 = nn.Conv2d(64, 128, 3, 2, 1)\n",
        "        self.conv4 = nn.Conv2d(128, 128, 3, 2, 1)\n",
        "\n",
        "        self.fc1 = nn.Linear(4 * 4 * 128, 128)\n",
        "        self.fc2 = nn.Linear(128, 128)\n",
        "\n",
        "        self.final = nn.Linear(128, 10)\n",
        "\n",
        "    def forward(self, x):\n",
        "        x = self.conv1(x)\n",
        "        x = F.relu(self.conv2(x))\n",
        "        x = F.relu(self.conv3(x))\n",
        "        x = F.relu(self.conv4(x))\n",
        "        x = torch.flatten(x, start_dim=1)\n",
        "        x = F.relu(self.fc1(x))\n",
        "        x = F.relu(self.fc2(x))\n",
        "        x = self.final(x)\n",
        "        return x"
      ],
      "metadata": {
        "id": "ANpXdTfDo8lw"
      },
      "execution_count": 131,
      "outputs": []
    },
    {
      "cell_type": "code",
      "source": [
        "class FixMatch:\n",
        "    def __init__(self):\n",
        "        \"\"\" \n",
        "            weak augmentation is a standard flip-and-shift augmentation strategy,\n",
        "              - flip images horizontally with a probability of 50%\n",
        "              - randomly translate images by up to 12.5% vertically and horizontally\n",
        "\n",
        "            strong augmentation:\n",
        "            RandAugment and CTAugment randomly select transformations for each sample\n",
        "            \n",
        "        \"\"\"\n",
        "        self.net = Model()\n",
        "        self.net.to(device)\n",
        "        self.tau = 0.7\n",
        "        self.lambda_u = 10\n",
        "        self.lr = 5e-4\n",
        "        self.gamma = 0.99\n",
        "        self.epochs = 50\n",
        "        self.crossentropy = nn.CrossEntropyLoss()\n",
        "        self.optimizer = opt.Adam(self.net.parameters(), lr=self.lr)\n",
        "        self.scheduler = opt.lr_scheduler.ExponentialLR(self.optimizer, gamma=self.gamma)\n",
        "        self.softmax = nn.Softmax(-1)\n",
        "\n",
        "        self.weak_transforms = transforms.RandomHorizontalFlip(0.5)\n",
        "        \n",
        "        self.hard_transforms = transforms.Compose([\n",
        "            transforms.ColorJitter(0.5, 0.5, 0.5, 0.1), \n",
        "            transforms.RandomResizedCrop(32), \n",
        "            transforms.RandomRotation(90),\n",
        "            transforms.RandomGrayscale(0.2),\n",
        "            transforms.Normalize((0.5), (0.5))\n",
        "            ])\n",
        "    \n",
        "    def compute_loss_labeled_data(self, x, y):\n",
        "        x = self.weak_transforms(x)\n",
        "        predictions = self.net(x)\n",
        "        loss = self.crossentropy(predictions, y)\n",
        "        return loss.mean()\n",
        " \n",
        "    def compute_loss_unlabeled_data(self, x):\n",
        "        transformed_x = self.weak_transforms(x)\n",
        "        prediction_probabilities = self.softmax(self.net(transformed_x))\n",
        "        probabilities, labels = torch.max(prediction_probabilities, dim=1)\n",
        "        mask = probabilities > self.tau\n",
        "\n",
        "        # skip optimization if all samples 'unsure'\n",
        "        if mask.sum() == 0:\n",
        "            return 0\n",
        "\n",
        "        predictions = self.net(self.hard_transforms(x[mask]))\n",
        "        confident_labels = labels[mask]\n",
        "        loss = self.crossentropy(predictions, confident_labels)\n",
        "        return loss.mean()\n",
        "\n",
        "    def decision_function_loader(self, dataloader):\n",
        "        y_pred = []\n",
        "        y_true = []\n",
        "\n",
        "        for x, y in dataloader:\n",
        "            probas = torch.argmax(self.net(x.to(device).float()), 1)\n",
        "            y_pred.extend(list(probas.squeeze().detach().cpu().numpy()))\n",
        "            y_true.extend(list(probas.squeeze().detach().cpu().numpy()))\n",
        "\n",
        "        return y_pred, y_true\n",
        "            \n",
        "    def fit(self, train_loader, test_loader):\n",
        "        train_losses = []\n",
        "        test_accs = []\n",
        "\n",
        "        for epoch in range(self.epochs):\n",
        "            self.net.train()\n",
        "            for x, labels in train_loader:\n",
        "                x = x.to(device)\n",
        "                labels = labels.to(device)\n",
        "\n",
        "                x_l = x[labels >= 0]\n",
        "                y_l = labels[labels >= 0]\n",
        "\n",
        "                x_ul = x[labels < 0]\n",
        "\n",
        "                labeled_loss = self.compute_loss_labeled_data(x_l, y_l)\n",
        "                unlabeled_loss = self.compute_loss_unlabeled_data(x_ul)\n",
        "                loss = labeled_loss + self.lambda_u * unlabeled_loss \n",
        "\n",
        "                if loss != 0:\n",
        "                  self.optimizer.zero_grad()\n",
        "                  loss.backward()\n",
        "                  self.optimizer.step()\n",
        "\n",
        "                train_losses.append(loss.item())\n",
        "\n",
        "            # compute accs on tests data\n",
        "            self.scheduler.step()\n",
        "            y_true, y_pred = self.decision_function_loader(test_loader)\n",
        "            test_accs.append(accuracy_score(y_true, y_pred))\n",
        "        return train_losses, test_accs    \n"
      ],
      "metadata": {
        "id": "rbvvAWMDqFqL"
      },
      "execution_count": 135,
      "outputs": []
    },
    {
      "cell_type": "markdown",
      "source": [
        ""
      ],
      "metadata": {
        "id": "yCxjqzzH1hsG"
      }
    },
    {
      "cell_type": "code",
      "source": [
        "def q2(train_data, test_data):\n",
        "    \"\"\"\n",
        "    train_data: An (n_train, 3, 32, 32) torchvision dataset of CIFAR10 images with values from -1 to 1\n",
        "\n",
        "    Returns\n",
        "    - a (# of training iterations, ) numpy array  losses on each iteration\n",
        "    - a (# of training epochs, ) numpy array accuracies on each epoch\n",
        "    \"\"\"\n",
        "\n",
        "    train_loader = torch.utils.data.DataLoader(train_data, 512, shuffle=True, pin_memory=True)\n",
        "    test_loader = torch.utils.data.DataLoader(train_data, 512, shuffle=False, pin_memory=True)\n",
        "\n",
        "    fix_match = FixMatch()\n",
        "    losses, accs = fix_match.fit(train_loader, test_loader)\n",
        "    return losses, accs"
      ],
      "metadata": {
        "id": "UZGq-KG9abw3"
      },
      "execution_count": 136,
      "outputs": []
    },
    {
      "cell_type": "code",
      "source": [
        "q12_results(q2)"
      ],
      "metadata": {
        "id": "ePG4-hS0abw_",
        "colab": {
          "base_uri": "https://localhost:8080/",
          "height": 608
        },
        "outputId": "d0aed586-8917-496d-9df8-63c86f29d430"
      },
      "execution_count": 137,
      "outputs": [
        {
          "output_type": "stream",
          "name": "stdout",
          "text": [
            "Files already downloaded and verified\n",
            "Files already downloaded and verified\n"
          ]
        },
        {
          "output_type": "display_data",
          "data": {
            "image/png": "[encoded data removed]",
            "text/plain": [
              "<Figure size 432x288 with 1 Axes>"
            ]
          },
          "metadata": {
            "needs_background": "light"
          }
        },
        {
          "output_type": "display_data",
          "data": {
            "image/png": "[encoded data removed]",
            "text/plain": [
              "<Figure size 432x288 with 1 Axes>"
            ]
          },
          "metadata": {
            "needs_background": "light"
          }
        }
      ]
    },
    {
      "cell_type": "markdown",
      "source": [
        "# Bonus\n",
        "\n",
        "## The probabilistic model\n",
        "\n",
        "*(this is a short summary of the model presented in [\"Semi-supervised Learning with\n",
        "Deep Generative Models\"](https://arxiv.org/pdf/1406.5298.pdf))*\n",
        "\n",
        "In the semi-supervised setting, the generative model is a little more complicated than vanilla VAE. In particular, it incorporates a new variable $y$ that represents the class of a digit $x$.\n",
        "\n",
        "\\begin{align*}\n",
        "& p(x, y, z) = p(x \\mid y, z) p(z) p(y) \\\\\n",
        "& p(y) = Cat(y \\mid \\pi_0), \\pi_0 = (1/10, \\dots, 1/10) \\\\\n",
        "& p(z) = \\mathcal N(z \\mid 0, I) \\\\\n",
        "& p(x \\mid y, z) = \\prod_{i=1}^D p_i(y, z)^{x_i} (1 - p_i(y, z))^{1 - x_i}\n",
        "\\end{align*}\n",
        "\n",
        "## The first part of the objective\n",
        "\n",
        "Whenever we train a probabilistic model with partial observations, we interpret the unobserved variables as latent variables. Then we marginalize them. In this case, the loss function splits into two terms: one for observed variables (we denote the set of indices of observed labels $P$), another for unobserved.\n",
        "\n",
        "\\begin{equation}\n",
        "L(X, y) = \\sum_{i \\notin P} \\log p(x_i) + \\sum_{i \\in P} \\log p(x_i, y_i)\n",
        "\\end{equation}\n",
        "\n",
        "Again, we can't compute the exact values of marginal likelihoods and resort to variational lower bound on likelihood. To compute lower bounds, we define the following variational approximation:\n",
        "\n",
        "\\begin{align*}\n",
        "& q(y, z \\mid x) = q(y \\mid x) q(z \\mid y, x)\\\\\n",
        "& \\\\\n",
        "& q(y \\mid x) = Cat(y \\mid \\pi(x))\\\\\n",
        "& q(z \\mid y, x) = \\mathcal N(z \\mid \\mu_\\phi(x, y), \\operatorname{diag}\\sigma^2_\\phi(y, x))\n",
        "\\end{align*}\n",
        "\n",
        "Using the variational approximation, we will obtain two lower bounds.\n",
        "\n",
        "First, the ELBO for $\\log p(x_i, y_i)$ for the observed variables (this one is similar to ELBO of VAE).\n",
        "\n",
        "\\begin{equation}\n",
        "\\log p(x, y) = \\log \\mathbb E_{p(z)} p(x, y \\mid z) \\geq \\mathbb E_{q(z \\mid y, x)} \\log \\frac{p(x, y \\mid z) p(z)}{q(z \\mid y, x)}\n",
        "\\end{equation}\n",
        "\n",
        "Second, the ELBO for $\\log p(x_i)$ for the unobserved variables.\n",
        "\n",
        "\\begin{equation}\n",
        "\\log p(x) = \\log \\mathbb E_{p(y)} \\mathbb E_{p(z \\mid y)} \\log p(x\\mid z, y)\\geq \\mathbb E_{q(y \\mid x)} \\mathbb E_{q(z \\mid y, x)} \\log \\frac{p(x, y \\mid z) p(z)}{q(z \\mid y, x) q(y \\mid x)}\n",
        "\\end{equation}\n",
        "\n",
        "Finally, the joint lower bound will be\n",
        "\n",
        "\\begin{equation}\n",
        "\\mathcal L(X, y) = \\sum_{i \\in P} \\mathbb E_{q(z_i \\mid y_i, x_i)} \\log \\frac{p(x_i, y_i \\mid z_i) p(z_i)}{q(z_i \\mid y_i, x_i)} + \\sum_{i \\notin P} \\mathbb E_{q(y_i \\mid x_i)} \\mathbb E_{q(z_i \\mid y_i, x_i)} \\log \\frac{p(x_i, y_i \\mid z_i) p(z_i)}{q(z_i \\mid y_i, x_i) q(y_i \\mid x_i)}\n",
        "\\end{equation}\n",
        "\n",
        "We will use reparametrized Monte-Carlo estimates to approximate expectation w.r.t. $z$. To approximate expectaion w.r.t. the discrete variable $y$ we will try three different options."
      ],
      "metadata": {
        "id": "70Ckao5QSblC"
      }
    },
    {
      "cell_type": "code",
      "source": [
        "def b(train_data, test_data):\n",
        "    \"\"\"\n",
        "    train_data: An (n_train, 1, 28, 28) torchvision dataset of binary MNIST images\n",
        "    Returns\n",
        "    - a (# of training iterations, ) numpy array  losses on each iteration\n",
        "    - a (# of training epochs, ) numpy array accuracies on each epoch\n",
        "    \"\"\""
      ],
      "metadata": {
        "id": "opRfI5beScTp"
      },
      "execution_count": null,
      "outputs": []
    }
  ]
}